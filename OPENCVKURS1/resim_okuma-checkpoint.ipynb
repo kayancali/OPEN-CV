{
 "cells": [
  {
   "cell_type": "code",
   "execution_count": null,
   "metadata": {},
   "outputs": [],
   "source": [
    "\n",
    "import numpy as np\n",
    "import cv2\n"
   ]
  },
  {
   "cell_type": "code",
   "execution_count": null,
   "metadata": {},
   "outputs": [],
   "source": [
    "import cv2\n",
    "img = cv2.imread(\"klon.jpg\")# sondaki 0 resmi gri tonlama yapıyor\n",
    "#print(img)\n",
    "cv2.namedWindow(\"image\",cv2.WINDOW_NORMAL)# resmin boyutunu değiştirmemizi sağlar\n",
    "# cv2.resize(img,(600,500))  # resmin boyutunu değiştirmemizi sağlar\n",
    "cv2.imshow(\"image\",img)# resmi göstermek için\n",
    "\n",
    "cv2.imwrite(\"klon1.jpg\",img) # resmi kaydetmemizi sağlar klon resmini klon1 şeklinde ayrı kaydettik\n",
    "\n",
    "cv2.waitKey(0)# resmin ekranda kalmasını sağlıyor\n",
    "cv2.destroyAllWindows()\n",
    "\n",
    "\n"
   ]
  },
  {
   "cell_type": "markdown",
   "metadata": {},
   "source": [
    "video 6\n",
    "En boy oranları"
   ]
  },
  {
   "cell_type": "code",
   "execution_count": null,
   "metadata": {},
   "outputs": [],
   "source": [
    "import cv2\n",
    "\n",
    "def resizewithAspectRatio(img,width= None,height=None, inter =cv2.INTER_AREA):\n",
    "    dimention= None\n",
    "    (h,w)=img.shape[:2]\n",
    "\n",
    "    if width is None and height is None:\n",
    "        return img\n",
    "    \n",
    "    if width is None:\n",
    "        r = height / float(h)\n",
    "\n",
    "        dimention= (int(w*r),height)\n",
    "    else:\n",
    "        r = width /float(w)\n",
    "\n",
    "        dimention=(width,int(h*r))\n",
    "\n",
    "    return cv2.resize(img, dimention,interpolation=inter)\n",
    "\n",
    "\n",
    "img=cv2.imread(\"klon.jpg\")\n",
    "img1=resizewithAspectRatio(img,width= None,height=600, inter =cv2.INTER_AREA)\n",
    "\n",
    "cv2.imshow(\"original\",img)\n",
    "cv2.imshow(\"resized\",img1)\n",
    "cv2.waitKey(0)\n",
    "cv2.destroyAllWindows()\n"
   ]
  },
  {
   "cell_type": "markdown",
   "metadata": {},
   "source": [
    "<!-- video 7 -->\n",
    "video okuma gösterme"
   ]
  },
  {
   "cell_type": "code",
   "execution_count": null,
   "metadata": {},
   "outputs": [],
   "source": [
    "import cv2\n",
    "\n",
    "#cap = cv2.VideoCapture(0) # videoyu webcap den okicaksak 0 girilir\n",
    "cap = cv2.VideoCapture(\"antalya.mp4\") \n",
    "# videonun süresini bilmediğimiz için while ben durdurana kadar dönücek\n",
    "while True:\n",
    "     \n",
    "    ret , frame = cap.read()# iki değer döndürür ilki video doğru okundumu t beya ikincisi frame \n",
    "    if ret == 0:\n",
    "        break\n",
    "\n",
    "    frame = cv2.flip(frame,1)# freamlerin yönünü değiştirir 1 y ekseninde yansıtır\n",
    "    \n",
    "    cv2.imshow(\"antalya\",frame)\n",
    "    key_pressed= cv2.waitKey(1)&0XFF\n",
    "    if cv2.waitKey(10) and key_pressed==ord('q')&0XFF:\n",
    "        break\n",
    "\n",
    "\n",
    "cv2.destroyAllWindows()\n",
    "\n",
    "\n",
    "\n",
    "\n",
    "\n",
    "\n"
   ]
  },
  {
   "cell_type": "markdown",
   "metadata": {},
   "source": [
    "video dosyası kaydetme"
   ]
  },
  {
   "cell_type": "code",
   "execution_count": null,
   "metadata": {},
   "outputs": [],
   "source": [
    "import cv2 \n",
    "cap=cv2.VideoCapture(0)\n",
    "fileName=\"C:\\Users\\kayan\\OneDrive\\Desktop\\OPENCV\\webcam.avi\"\n",
    "codec=cv2.VideoWriter_fourcc(\"W\",\"M\",\"2\")\n",
    "frameRate= 30\n",
    "resolution=(640,480)\n",
    "videoFileOutput= cv2.VideoWriter(fileName,codec,frameRate,resolution)\n",
    "\n",
    "while True:\n",
    "    ret, frame=cap.read()\n",
    "    \n",
    "    frame= cv2.flip(frame,1)\n",
    "    videoFileOutput.write(frame)\n",
    "    cv2.imshow(\"webcam\",frame)\n",
    "    key_pressed= cv2.waitKey(1)&0XFF\n",
    "    if cv2.waitKey(10) and key_pressed==ord('q')&0XFF:\n",
    "        break\n",
    "\n",
    "\n",
    "videoFileOutput.release()\n",
    "cv2.destroyAllWindows()"
   ]
  }
 ],
 "metadata": {
  "kernelspec": {
   "display_name": "Python 3 (ipykernel)",
   "language": "python",
   "name": "python3"
  },
  "language_info": {
   "codemirror_mode": {
    "name": "ipython",
    "version": 3
   },
   "file_extension": ".py",
   "mimetype": "text/x-python",
   "name": "python",
   "nbconvert_exporter": "python",
   "pygments_lexer": "ipython3",
   "version": "3.10.9"
  },
  "vscode": {
   "interpreter": {
    "hash": "a6a5d7969b11a650834bc787cff5761e305f069613632c02c475baa78316c3e7"
   }
  }
 },
 "nbformat": 4,
 "nbformat_minor": 2
}
